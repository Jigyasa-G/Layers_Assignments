{
 "cells": [
  {
   "cell_type": "code",
   "execution_count": 7,
   "id": "38f147bf",
   "metadata": {},
   "outputs": [
    {
     "name": "stdout",
     "output_type": "stream",
     "text": [
      "2\n",
      "2 4\n",
      "3516302870623680066\n"
     ]
    }
   ],
   "source": [
    "# Tuples\n",
    "\n",
    "if __name__ == '__main__':\n",
    "    n = int(input())\n",
    "    integer_list = map(int,input().split())\n",
    "    \n",
    "    t = tuple(integer_list)\n",
    "    print(hash(t))\n"
   ]
  },
  {
   "cell_type": "code",
   "execution_count": 1,
   "id": "5fac5543",
   "metadata": {},
   "outputs": [
    {
     "name": "stdout",
     "output_type": "stream",
     "text": [
      "12\n",
      "insert 0 5\n",
      "insert 1 10\n",
      "insert 0 6\n",
      "print\n",
      "[6, 5, 10]\n",
      "remove 6\n",
      "append 9\n",
      "append 1\n",
      "sort\n",
      "print\n",
      "[1, 5, 9, 10]\n",
      "pop\n",
      "reverse\n",
      "print\n",
      "[9, 5, 1]\n"
     ]
    }
   ],
   "source": [
    "# Lists\n",
    "\n",
    "N = int(input())\n",
    "lis=list()\n",
    "for _ in range(N):\n",
    "    s=input().strip().split(\" \")\n",
    "    if s[0]==\"insert\":\n",
    "        lis.insert(int(s[1]),int(s[2]))\n",
    "    if s[0]==\"print\":\n",
    "        print(lis)\n",
    "    if s[0]==\"remove\":\n",
    "        lis.remove(int(s[1]))\n",
    "    if s[0]==\"append\":\n",
    "        lis.append(int(s[1]))\n",
    "    if s[0]==\"sort\":\n",
    "        lis.sort()\n",
    "    if s[0]==\"pop\":\n",
    "        lis.pop()\n",
    "    if s[0]==\"reverse\":\n",
    "        lis.reverse()"
   ]
  },
  {
   "cell_type": "code",
   "execution_count": 3,
   "id": "52042330",
   "metadata": {},
   "outputs": [
    {
     "name": "stdout",
     "output_type": "stream",
     "text": [
      "3\n",
      "Weird\n"
     ]
    }
   ],
   "source": [
    "# Python if-else\n",
    "\n",
    "#!/bin/python\n",
    "\n",
    "import math\n",
    "import os\n",
    "import random\n",
    "import re\n",
    "import sys\n",
    "\n",
    "\n",
    "\n",
    "if __name__ == '__main__':\n",
    "    n = int(input().strip())\n",
    "if n%2 != 0:\n",
    "    print(\"Weird\")\n",
    "elif n%2 == 0 :\n",
    "    if n>=2 and n<=5 :\n",
    "        print(\"Not Weird\")\n",
    "    elif n>=6 and n<=20:\n",
    "        print(\"Weird\")\n",
    "    else :\n",
    "        print(\"Not Weird\")\n"
   ]
  },
  {
   "cell_type": "code",
   "execution_count": 5,
   "id": "5472836a",
   "metadata": {},
   "outputs": [
    {
     "name": "stdout",
     "output_type": "stream",
     "text": [
      "3\n",
      "2\n",
      "5\n",
      "1\n",
      "6\n"
     ]
    }
   ],
   "source": [
    "# Arithmetic Operators\n",
    "\n",
    "if __name__ == '__main__':\n",
    "    a = int(input())\n",
    "    b = int(input())\n",
    "    \n",
    "    print(a+b)\n",
    "    print(a-b)\n",
    "    print(a*b)\n"
   ]
  },
  {
   "cell_type": "code",
   "execution_count": 1,
   "id": "e5d700dc",
   "metadata": {},
   "outputs": [
    {
     "name": "stdout",
     "output_type": "stream",
     "text": [
      "3\n",
      "5\n",
      "0\n",
      "0.6\n"
     ]
    }
   ],
   "source": [
    "# Python division\n",
    "\n",
    "if __name__ == '__main__':\n",
    "    a = int(input())\n",
    "    b = int(input())\n",
    "    \n",
    "    print(a//b)\n",
    "    print(a/b)\n"
   ]
  },
  {
   "cell_type": "code",
   "execution_count": 2,
   "id": "db17d7b1",
   "metadata": {},
   "outputs": [
    {
     "name": "stdout",
     "output_type": "stream",
     "text": [
      "5\n",
      "0\n",
      "1\n",
      "4\n",
      "9\n",
      "16\n"
     ]
    }
   ],
   "source": [
    "# Loops\n",
    "\n",
    "if __name__ == '__main__':\n",
    "    n = int(input())\n",
    "    \n",
    "    if n>=0 :\n",
    "        for i in range(n):\n",
    "            print(i**2)\n",
    "            \n"
   ]
  },
  {
   "cell_type": "code",
   "execution_count": 19,
   "id": "e43beddd",
   "metadata": {},
   "outputs": [
    {
     "name": "stdout",
     "output_type": "stream",
     "text": [
      "1990\n",
      "False\n"
     ]
    }
   ],
   "source": [
    "# Write a function\n",
    "def is_leap(year):\n",
    "    leap = False\n",
    "    \n",
    "    # Write your logic here\n",
    "    if year % 400 == 0 :\n",
    "        leap = True\n",
    "        return leap\n",
    "    else:\n",
    "        if year % 100 == 0 :\n",
    "            return leap \n",
    "        elif year % 4==0 :\n",
    "            leap = True\n",
    "            return leap\n",
    "        else:\n",
    "            return leap\n",
    "        \n",
    "year = int(input())\n",
    "print(is_leap(year))"
   ]
  },
  {
   "cell_type": "code",
   "execution_count": 4,
   "id": "402b2357",
   "metadata": {},
   "outputs": [
    {
     "name": "stdout",
     "output_type": "stream",
     "text": [
      "3\n",
      "123"
     ]
    }
   ],
   "source": [
    "# Print function\n",
    "\n",
    "if __name__ == '__main__':\n",
    "    n = int(input())\n",
    "    for i in range(1,n+1):\n",
    "        print(i, end= \"\")\n"
   ]
  },
  {
   "cell_type": "code",
   "execution_count": 18,
   "id": "1e06141f",
   "metadata": {},
   "outputs": [
    {
     "name": "stdout",
     "output_type": "stream",
     "text": [
      "5\n",
      "2 3 6 6 5\n",
      "5\n"
     ]
    }
   ],
   "source": [
    "# Runners-up score\n",
    "\n",
    "n = int(input())\n",
    "arr = map(int, input().split())\n",
    "    \n",
    "print(sorted(set(arr))[-2])"
   ]
  },
  {
   "cell_type": "code",
   "execution_count": 16,
   "id": "26ec3da2",
   "metadata": {},
   "outputs": [
    {
     "name": "stdout",
     "output_type": "stream",
     "text": [
      "1\n",
      "1\n",
      "1\n",
      "2\n",
      "[[0, 0, 0], [0, 0, 1], [0, 1, 0], [1, 0, 0], [1, 1, 1]]\n"
     ]
    }
   ],
   "source": [
    "# List Comprehension\n",
    "\n",
    "x = int(input())\n",
    "y = int(input())\n",
    "z = int(input())\n",
    "n = int(input())\n",
    "#x,y,z,n = (int(input()) for _ in range(4))\n",
    "    \n",
    "print(list([i,j,k] for i in range(x+1) for j in range(y+1) for k in range(z+1) if i+j+k != n))"
   ]
  },
  {
   "cell_type": "code",
   "execution_count": 8,
   "id": "d45dbd6e",
   "metadata": {},
   "outputs": [
    {
     "name": "stdout",
     "output_type": "stream",
     "text": [
      "5\n",
      "Harry\n",
      "37.21\n",
      "Berry\n",
      "37.21\n",
      "Tina\n",
      "37.2\n",
      "Akriti\n",
      "41\n",
      "Harsh\n",
      "39\n",
      "Berry\n",
      "Harry\n"
     ]
    }
   ],
   "source": [
    "# Nested Lists\n",
    "\n",
    "if __name__ == '__main__':\n",
    "    name,score=[],[]\n",
    "\n",
    "    for _ in range(int(input())):\n",
    "\n",
    "            name.append(input())\n",
    "\n",
    "            score.append(float(input()))\n",
    "\n",
    "    print(\"\\n\".join(sorted([name[i] for i in range(len(name)) if score[i]==sorted(list(set(score)))[1]])))\n"
   ]
  },
  {
   "cell_type": "code",
   "execution_count": 15,
   "id": "62aff5b2",
   "metadata": {},
   "outputs": [
    {
     "name": "stdout",
     "output_type": "stream",
     "text": [
      "3\n",
      "Krishna 67 68 69\n",
      "Arjun 70 98 63\n",
      "Malika 52 56 60\n",
      "Malika\n",
      "56.00\n"
     ]
    }
   ],
   "source": [
    "# Finding the percentage:\n",
    "\n",
    "if __name__ == '__main__':\n",
    "    n = int(input())\n",
    "    student_marks = {}\n",
    "    for _ in range(n):\n",
    "        name, *line = input().split()\n",
    "        scores = list(map(float, line))\n",
    "        student_marks[name] = scores\n",
    "    query_name = input()\n",
    "    print('%.2f'%(sum(student_marks[query_name])/3))\n"
   ]
  },
  {
   "cell_type": "markdown",
   "id": "3c482e43",
   "metadata": {},
   "source": [
    " "
   ]
  }
 ],
 "metadata": {
  "kernelspec": {
   "display_name": "Python 3 (ipykernel)",
   "language": "python",
   "name": "python3"
  },
  "language_info": {
   "codemirror_mode": {
    "name": "ipython",
    "version": 3
   },
   "file_extension": ".py",
   "mimetype": "text/x-python",
   "name": "python",
   "nbconvert_exporter": "python",
   "pygments_lexer": "ipython3",
   "version": "3.9.5"
  }
 },
 "nbformat": 4,
 "nbformat_minor": 5
}
